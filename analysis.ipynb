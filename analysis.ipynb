{
 "cells": [
  {
   "cell_type": "code",
   "execution_count": 1,
   "metadata": {
    "collapsed": true
   },
   "outputs": [],
   "source": [
    "# importing libraries for analysis and visualisation\n",
    "import pandas as pd\n",
    "import seaborn as sns\n",
    "import matplotlib.pyplot as plt\n",
    "\n",
    "%matplotlib inline"
   ]
  },
  {
   "cell_type": "code",
   "execution_count": 2,
   "outputs": [
    {
     "data": {
      "text/plain": "  show_id     type  title           director  \\\n0      s1  TV Show     3%                NaN   \n1      s2    Movie   7:19  Jorge Michel Grau   \n2      s3    Movie  23:59       Gilbert Chan   \n3      s4    Movie      9        Shane Acker   \n4      s5    Movie     21     Robert Luketic   \n\n                                                cast        country  \\\n0  João Miguel, Bianca Comparato, Michel Gomes, R...         Brazil   \n1  Demián Bichir, Héctor Bonilla, Oscar Serrano, ...         Mexico   \n2  Tedd Chan, Stella Chung, Henley Hii, Lawrence ...      Singapore   \n3  Elijah Wood, John C. Reilly, Jennifer Connelly...  United States   \n4  Jim Sturgess, Kevin Spacey, Kate Bosworth, Aar...  United States   \n\n          date_added  release_year rating   duration  \\\n0    August 14, 2020          2020  TV-MA  4 Seasons   \n1  December 23, 2016          2016  TV-MA     93 min   \n2  December 20, 2018          2011      R     78 min   \n3  November 16, 2017          2009  PG-13     80 min   \n4    January 1, 2020          2008  PG-13    123 min   \n\n                                           listed_in  \\\n0  International TV Shows, TV Dramas, TV Sci-Fi &...   \n1                       Dramas, International Movies   \n2                Horror Movies, International Movies   \n3  Action & Adventure, Independent Movies, Sci-Fi...   \n4                                             Dramas   \n\n                                         description  \n0  In a future where the elite inhabit an island ...  \n1  After a devastating earthquake hits Mexico Cit...  \n2  When an army recruit is found dead, his fellow...  \n3  In a postapocalyptic world, rag-doll robots hi...  \n4  A brilliant group of students become card-coun...  ",
      "text/html": "<div>\n<style scoped>\n    .dataframe tbody tr th:only-of-type {\n        vertical-align: middle;\n    }\n\n    .dataframe tbody tr th {\n        vertical-align: top;\n    }\n\n    .dataframe thead th {\n        text-align: right;\n    }\n</style>\n<table border=\"1\" class=\"dataframe\">\n  <thead>\n    <tr style=\"text-align: right;\">\n      <th></th>\n      <th>show_id</th>\n      <th>type</th>\n      <th>title</th>\n      <th>director</th>\n      <th>cast</th>\n      <th>country</th>\n      <th>date_added</th>\n      <th>release_year</th>\n      <th>rating</th>\n      <th>duration</th>\n      <th>listed_in</th>\n      <th>description</th>\n    </tr>\n  </thead>\n  <tbody>\n    <tr>\n      <th>0</th>\n      <td>s1</td>\n      <td>TV Show</td>\n      <td>3%</td>\n      <td>NaN</td>\n      <td>João Miguel, Bianca Comparato, Michel Gomes, R...</td>\n      <td>Brazil</td>\n      <td>August 14, 2020</td>\n      <td>2020</td>\n      <td>TV-MA</td>\n      <td>4 Seasons</td>\n      <td>International TV Shows, TV Dramas, TV Sci-Fi &amp;...</td>\n      <td>In a future where the elite inhabit an island ...</td>\n    </tr>\n    <tr>\n      <th>1</th>\n      <td>s2</td>\n      <td>Movie</td>\n      <td>7:19</td>\n      <td>Jorge Michel Grau</td>\n      <td>Demián Bichir, Héctor Bonilla, Oscar Serrano, ...</td>\n      <td>Mexico</td>\n      <td>December 23, 2016</td>\n      <td>2016</td>\n      <td>TV-MA</td>\n      <td>93 min</td>\n      <td>Dramas, International Movies</td>\n      <td>After a devastating earthquake hits Mexico Cit...</td>\n    </tr>\n    <tr>\n      <th>2</th>\n      <td>s3</td>\n      <td>Movie</td>\n      <td>23:59</td>\n      <td>Gilbert Chan</td>\n      <td>Tedd Chan, Stella Chung, Henley Hii, Lawrence ...</td>\n      <td>Singapore</td>\n      <td>December 20, 2018</td>\n      <td>2011</td>\n      <td>R</td>\n      <td>78 min</td>\n      <td>Horror Movies, International Movies</td>\n      <td>When an army recruit is found dead, his fellow...</td>\n    </tr>\n    <tr>\n      <th>3</th>\n      <td>s4</td>\n      <td>Movie</td>\n      <td>9</td>\n      <td>Shane Acker</td>\n      <td>Elijah Wood, John C. Reilly, Jennifer Connelly...</td>\n      <td>United States</td>\n      <td>November 16, 2017</td>\n      <td>2009</td>\n      <td>PG-13</td>\n      <td>80 min</td>\n      <td>Action &amp; Adventure, Independent Movies, Sci-Fi...</td>\n      <td>In a postapocalyptic world, rag-doll robots hi...</td>\n    </tr>\n    <tr>\n      <th>4</th>\n      <td>s5</td>\n      <td>Movie</td>\n      <td>21</td>\n      <td>Robert Luketic</td>\n      <td>Jim Sturgess, Kevin Spacey, Kate Bosworth, Aar...</td>\n      <td>United States</td>\n      <td>January 1, 2020</td>\n      <td>2008</td>\n      <td>PG-13</td>\n      <td>123 min</td>\n      <td>Dramas</td>\n      <td>A brilliant group of students become card-coun...</td>\n    </tr>\n  </tbody>\n</table>\n</div>"
     },
     "execution_count": 2,
     "metadata": {},
     "output_type": "execute_result"
    }
   ],
   "source": [
    "nf = pd.read_csv(\"netflix_titles.csv\")\n",
    "nf.head()"
   ],
   "metadata": {
    "collapsed": false,
    "pycharm": {
     "name": "#%%\n"
    }
   }
  },
  {
   "cell_type": "code",
   "execution_count": 3,
   "outputs": [
    {
     "data": {
      "text/plain": "     show_id     type                                    title     director  \\\n7782   s7783    Movie                                     Zozo  Josef Fares   \n7783   s7784    Movie                                   Zubaan  Mozez Singh   \n7784   s7785    Movie                        Zulu Man in Japan          NaN   \n7785   s7786  TV Show                    Zumbo's Just Desserts          NaN   \n7786   s7787    Movie  ZZ TOP: THAT LITTLE OL' BAND FROM TEXAS     Sam Dunn   \n\n                                                   cast  \\\n7782  Imad Creidi, Antoinette Turk, Elias Gergi, Car...   \n7783  Vicky Kaushal, Sarah-Jane Dias, Raaghav Chanan...   \n7784                                            Nasty C   \n7785                         Adriano Zumbo, Rachel Khoo   \n7786                                                NaN   \n\n                                                country          date_added  \\\n7782  Sweden, Czech Republic, United Kingdom, Denmar...    October 19, 2020   \n7783                                              India       March 2, 2019   \n7784                                                NaN  September 25, 2020   \n7785                                          Australia    October 31, 2020   \n7786              United Kingdom, Canada, United States       March 1, 2020   \n\n      release_year rating  duration  \\\n7782          2005  TV-MA    99 min   \n7783          2015  TV-14   111 min   \n7784          2019  TV-MA    44 min   \n7785          2019  TV-PG  1 Season   \n7786          2019  TV-MA    90 min   \n\n                                              listed_in  \\\n7782                       Dramas, International Movies   \n7783     Dramas, International Movies, Music & Musicals   \n7784  Documentaries, International Movies, Music & M...   \n7785                 International TV Shows, Reality TV   \n7786                    Documentaries, Music & Musicals   \n\n                                            description  \n7782  When Lebanon's Civil War deprives Zozo of his ...  \n7783  A scrappy but poor boy worms his way into a ty...  \n7784  In this documentary, South African rapper Nast...  \n7785  Dessert wizard Adriano Zumbo looks for the nex...  \n7786  This documentary delves into the mystique behi...  ",
      "text/html": "<div>\n<style scoped>\n    .dataframe tbody tr th:only-of-type {\n        vertical-align: middle;\n    }\n\n    .dataframe tbody tr th {\n        vertical-align: top;\n    }\n\n    .dataframe thead th {\n        text-align: right;\n    }\n</style>\n<table border=\"1\" class=\"dataframe\">\n  <thead>\n    <tr style=\"text-align: right;\">\n      <th></th>\n      <th>show_id</th>\n      <th>type</th>\n      <th>title</th>\n      <th>director</th>\n      <th>cast</th>\n      <th>country</th>\n      <th>date_added</th>\n      <th>release_year</th>\n      <th>rating</th>\n      <th>duration</th>\n      <th>listed_in</th>\n      <th>description</th>\n    </tr>\n  </thead>\n  <tbody>\n    <tr>\n      <th>7782</th>\n      <td>s7783</td>\n      <td>Movie</td>\n      <td>Zozo</td>\n      <td>Josef Fares</td>\n      <td>Imad Creidi, Antoinette Turk, Elias Gergi, Car...</td>\n      <td>Sweden, Czech Republic, United Kingdom, Denmar...</td>\n      <td>October 19, 2020</td>\n      <td>2005</td>\n      <td>TV-MA</td>\n      <td>99 min</td>\n      <td>Dramas, International Movies</td>\n      <td>When Lebanon's Civil War deprives Zozo of his ...</td>\n    </tr>\n    <tr>\n      <th>7783</th>\n      <td>s7784</td>\n      <td>Movie</td>\n      <td>Zubaan</td>\n      <td>Mozez Singh</td>\n      <td>Vicky Kaushal, Sarah-Jane Dias, Raaghav Chanan...</td>\n      <td>India</td>\n      <td>March 2, 2019</td>\n      <td>2015</td>\n      <td>TV-14</td>\n      <td>111 min</td>\n      <td>Dramas, International Movies, Music &amp; Musicals</td>\n      <td>A scrappy but poor boy worms his way into a ty...</td>\n    </tr>\n    <tr>\n      <th>7784</th>\n      <td>s7785</td>\n      <td>Movie</td>\n      <td>Zulu Man in Japan</td>\n      <td>NaN</td>\n      <td>Nasty C</td>\n      <td>NaN</td>\n      <td>September 25, 2020</td>\n      <td>2019</td>\n      <td>TV-MA</td>\n      <td>44 min</td>\n      <td>Documentaries, International Movies, Music &amp; M...</td>\n      <td>In this documentary, South African rapper Nast...</td>\n    </tr>\n    <tr>\n      <th>7785</th>\n      <td>s7786</td>\n      <td>TV Show</td>\n      <td>Zumbo's Just Desserts</td>\n      <td>NaN</td>\n      <td>Adriano Zumbo, Rachel Khoo</td>\n      <td>Australia</td>\n      <td>October 31, 2020</td>\n      <td>2019</td>\n      <td>TV-PG</td>\n      <td>1 Season</td>\n      <td>International TV Shows, Reality TV</td>\n      <td>Dessert wizard Adriano Zumbo looks for the nex...</td>\n    </tr>\n    <tr>\n      <th>7786</th>\n      <td>s7787</td>\n      <td>Movie</td>\n      <td>ZZ TOP: THAT LITTLE OL' BAND FROM TEXAS</td>\n      <td>Sam Dunn</td>\n      <td>NaN</td>\n      <td>United Kingdom, Canada, United States</td>\n      <td>March 1, 2020</td>\n      <td>2019</td>\n      <td>TV-MA</td>\n      <td>90 min</td>\n      <td>Documentaries, Music &amp; Musicals</td>\n      <td>This documentary delves into the mystique behi...</td>\n    </tr>\n  </tbody>\n</table>\n</div>"
     },
     "execution_count": 3,
     "metadata": {},
     "output_type": "execute_result"
    }
   ],
   "source": [
    "nf.tail()"
   ],
   "metadata": {
    "collapsed": false,
    "pycharm": {
     "name": "#%%\n"
    }
   }
  },
  {
   "cell_type": "code",
   "execution_count": 4,
   "outputs": [
    {
     "name": "stdout",
     "output_type": "stream",
     "text": [
      "<class 'pandas.core.frame.DataFrame'>\n",
      "RangeIndex: 7787 entries, 0 to 7786\n",
      "Data columns (total 12 columns):\n",
      " #   Column        Non-Null Count  Dtype \n",
      "---  ------        --------------  ----- \n",
      " 0   show_id       7787 non-null   object\n",
      " 1   type          7787 non-null   object\n",
      " 2   title         7787 non-null   object\n",
      " 3   director      5398 non-null   object\n",
      " 4   cast          7069 non-null   object\n",
      " 5   country       7280 non-null   object\n",
      " 6   date_added    7777 non-null   object\n",
      " 7   release_year  7787 non-null   int64 \n",
      " 8   rating        7780 non-null   object\n",
      " 9   duration      7787 non-null   object\n",
      " 10  listed_in     7787 non-null   object\n",
      " 11  description   7787 non-null   object\n",
      "dtypes: int64(1), object(11)\n",
      "memory usage: 730.2+ KB\n"
     ]
    }
   ],
   "source": [
    "nf.info()"
   ],
   "metadata": {
    "collapsed": false,
    "pycharm": {
     "name": "#%%\n"
    }
   }
  },
  {
   "cell_type": "code",
   "execution_count": 5,
   "outputs": [
    {
     "data": {
      "text/plain": "       release_year\ncount   7787.000000\nmean    2013.932580\nstd        8.757395\nmin     1925.000000\n25%     2013.000000\n50%     2017.000000\n75%     2018.000000\nmax     2021.000000",
      "text/html": "<div>\n<style scoped>\n    .dataframe tbody tr th:only-of-type {\n        vertical-align: middle;\n    }\n\n    .dataframe tbody tr th {\n        vertical-align: top;\n    }\n\n    .dataframe thead th {\n        text-align: right;\n    }\n</style>\n<table border=\"1\" class=\"dataframe\">\n  <thead>\n    <tr style=\"text-align: right;\">\n      <th></th>\n      <th>release_year</th>\n    </tr>\n  </thead>\n  <tbody>\n    <tr>\n      <th>count</th>\n      <td>7787.000000</td>\n    </tr>\n    <tr>\n      <th>mean</th>\n      <td>2013.932580</td>\n    </tr>\n    <tr>\n      <th>std</th>\n      <td>8.757395</td>\n    </tr>\n    <tr>\n      <th>min</th>\n      <td>1925.000000</td>\n    </tr>\n    <tr>\n      <th>25%</th>\n      <td>2013.000000</td>\n    </tr>\n    <tr>\n      <th>50%</th>\n      <td>2017.000000</td>\n    </tr>\n    <tr>\n      <th>75%</th>\n      <td>2018.000000</td>\n    </tr>\n    <tr>\n      <th>max</th>\n      <td>2021.000000</td>\n    </tr>\n  </tbody>\n</table>\n</div>"
     },
     "execution_count": 5,
     "metadata": {},
     "output_type": "execute_result"
    }
   ],
   "source": [
    "nf.describe()"
   ],
   "metadata": {
    "collapsed": false,
    "pycharm": {
     "name": "#%%\n"
    }
   }
  },
  {
   "cell_type": "code",
   "execution_count": 6,
   "outputs": [
    {
     "data": {
      "text/plain": "(7787, 12)"
     },
     "execution_count": 6,
     "metadata": {},
     "output_type": "execute_result"
    }
   ],
   "source": [
    "nf.shape"
   ],
   "metadata": {
    "collapsed": false,
    "pycharm": {
     "name": "#%%\n"
    }
   }
  },
  {
   "cell_type": "code",
   "execution_count": 7,
   "outputs": [
    {
     "data": {
      "text/plain": "     show_id     type                                          title  \\\n4867   s4868  TV Show              Pioneers: First Women Filmmakers*   \n4960   s4961    Movie                                 Prelude to War   \n6117   s6118    Movie                           The Battle of Midway   \n7342   s7343    Movie  Undercover: How to Operate Behind Enemy Lines   \n7679   s7680    Movie                WWII: Report from the Aleutians   \n\n         director                       cast        country  \\\n4867          NaN                        NaN            NaN   \n4960  Frank Capra                        NaN  United States   \n6117    John Ford  Henry Fonda, Jane Darwell  United States   \n7342    John Ford                        NaN  United States   \n7679  John Huston                        NaN  United States   \n\n             date_added  release_year rating  duration  \\\n4867  December 30, 2018          1925  TV-14  1 Season   \n4960     March 31, 2017          1942  TV-14    52 min   \n6117     March 31, 2017          1942  TV-14    18 min   \n7342     March 31, 2017          1943  TV-PG    61 min   \n7679     March 31, 2017          1943  TV-PG    45 min   \n\n                          listed_in  \\\n4867                       TV Shows   \n4960  Classic Movies, Documentaries   \n6117  Classic Movies, Documentaries   \n7342  Classic Movies, Documentaries   \n7679                  Documentaries   \n\n                                            description  \n4867  This collection restores films from women who ...  \n4960  Frank Capra's documentary chronicles the rise ...  \n6117  Director John Ford captures combat footage of ...  \n7342  This World War II-era training film dramatizes...  \n7679  Filmmaker John Huston narrates this Oscar-nomi...  ",
      "text/html": "<div>\n<style scoped>\n    .dataframe tbody tr th:only-of-type {\n        vertical-align: middle;\n    }\n\n    .dataframe tbody tr th {\n        vertical-align: top;\n    }\n\n    .dataframe thead th {\n        text-align: right;\n    }\n</style>\n<table border=\"1\" class=\"dataframe\">\n  <thead>\n    <tr style=\"text-align: right;\">\n      <th></th>\n      <th>show_id</th>\n      <th>type</th>\n      <th>title</th>\n      <th>director</th>\n      <th>cast</th>\n      <th>country</th>\n      <th>date_added</th>\n      <th>release_year</th>\n      <th>rating</th>\n      <th>duration</th>\n      <th>listed_in</th>\n      <th>description</th>\n    </tr>\n  </thead>\n  <tbody>\n    <tr>\n      <th>4867</th>\n      <td>s4868</td>\n      <td>TV Show</td>\n      <td>Pioneers: First Women Filmmakers*</td>\n      <td>NaN</td>\n      <td>NaN</td>\n      <td>NaN</td>\n      <td>December 30, 2018</td>\n      <td>1925</td>\n      <td>TV-14</td>\n      <td>1 Season</td>\n      <td>TV Shows</td>\n      <td>This collection restores films from women who ...</td>\n    </tr>\n    <tr>\n      <th>4960</th>\n      <td>s4961</td>\n      <td>Movie</td>\n      <td>Prelude to War</td>\n      <td>Frank Capra</td>\n      <td>NaN</td>\n      <td>United States</td>\n      <td>March 31, 2017</td>\n      <td>1942</td>\n      <td>TV-14</td>\n      <td>52 min</td>\n      <td>Classic Movies, Documentaries</td>\n      <td>Frank Capra's documentary chronicles the rise ...</td>\n    </tr>\n    <tr>\n      <th>6117</th>\n      <td>s6118</td>\n      <td>Movie</td>\n      <td>The Battle of Midway</td>\n      <td>John Ford</td>\n      <td>Henry Fonda, Jane Darwell</td>\n      <td>United States</td>\n      <td>March 31, 2017</td>\n      <td>1942</td>\n      <td>TV-14</td>\n      <td>18 min</td>\n      <td>Classic Movies, Documentaries</td>\n      <td>Director John Ford captures combat footage of ...</td>\n    </tr>\n    <tr>\n      <th>7342</th>\n      <td>s7343</td>\n      <td>Movie</td>\n      <td>Undercover: How to Operate Behind Enemy Lines</td>\n      <td>John Ford</td>\n      <td>NaN</td>\n      <td>United States</td>\n      <td>March 31, 2017</td>\n      <td>1943</td>\n      <td>TV-PG</td>\n      <td>61 min</td>\n      <td>Classic Movies, Documentaries</td>\n      <td>This World War II-era training film dramatizes...</td>\n    </tr>\n    <tr>\n      <th>7679</th>\n      <td>s7680</td>\n      <td>Movie</td>\n      <td>WWII: Report from the Aleutians</td>\n      <td>John Huston</td>\n      <td>NaN</td>\n      <td>United States</td>\n      <td>March 31, 2017</td>\n      <td>1943</td>\n      <td>TV-PG</td>\n      <td>45 min</td>\n      <td>Documentaries</td>\n      <td>Filmmaker John Huston narrates this Oscar-nomi...</td>\n    </tr>\n  </tbody>\n</table>\n</div>"
     },
     "execution_count": 7,
     "metadata": {},
     "output_type": "execute_result"
    }
   ],
   "source": [
    "sorted_nf = nf.sort_values('release_year', ascending=True, kind='heapsort', na_position='last')\n",
    "sorted_nf.head()"
   ],
   "metadata": {
    "collapsed": false,
    "pycharm": {
     "name": "#%%\n"
    }
   }
  },
  {
   "cell_type": "code",
   "execution_count": 8,
   "outputs": [
    {
     "data": {
      "text/plain": "     show_id   type                    title  \\\n6117   s6118  Movie     The Battle of Midway   \n7268   s7269  Movie         Tunisian Victory   \n3425   s3426  Movie  Know Your Enemy - Japan   \n3608   s3609  Movie       Let There Be Light   \n7072   s7073  Movie              Thunderbolt   \n\n                                               director  \\\n6117                                          John Ford   \n7268  Frank Capra, John Huston, Hugh Stewart, Roy Bo...   \n3425                           Frank Capra, Joris Ivens   \n3608                                        John Huston   \n7072                        William Wyler, John Sturges   \n\n                              cast                        country  \\\n6117     Henry Fonda, Jane Darwell                  United States   \n7268              Burgess Meredith  United States, United Kingdom   \n3425   Walter Huston, Dana Andrews                  United States   \n3608                 Walter Huston                  United States   \n7072  James Stewart, Lloyd Bridges                  United States   \n\n          date_added  release_year rating duration  \\\n6117  March 31, 2017          1942  TV-14   18 min   \n7268  March 31, 2017          1944  TV-14   76 min   \n3425  March 31, 2017          1945  TV-14   63 min   \n3608  March 31, 2017          1946  TV-PG   58 min   \n7072  March 31, 2017          1947  TV-PG   42 min   \n\n                          listed_in  \\\n6117  Classic Movies, Documentaries   \n7268  Classic Movies, Documentaries   \n3425  Classic Movies, Documentaries   \n3608  Classic Movies, Documentaries   \n7072  Classic Movies, Documentaries   \n\n                                            description  \n6117  Director John Ford captures combat footage of ...  \n7268  British and American troops join forces to lib...  \n3425  Though culturally insensitive by modern standa...  \n3608  Some returning combat veterans suffer scars th...  \n7072  A P-47 Thunderbolt squadron is shown in prepar...  ",
      "text/html": "<div>\n<style scoped>\n    .dataframe tbody tr th:only-of-type {\n        vertical-align: middle;\n    }\n\n    .dataframe tbody tr th {\n        vertical-align: top;\n    }\n\n    .dataframe thead th {\n        text-align: right;\n    }\n</style>\n<table border=\"1\" class=\"dataframe\">\n  <thead>\n    <tr style=\"text-align: right;\">\n      <th></th>\n      <th>show_id</th>\n      <th>type</th>\n      <th>title</th>\n      <th>director</th>\n      <th>cast</th>\n      <th>country</th>\n      <th>date_added</th>\n      <th>release_year</th>\n      <th>rating</th>\n      <th>duration</th>\n      <th>listed_in</th>\n      <th>description</th>\n    </tr>\n  </thead>\n  <tbody>\n    <tr>\n      <th>6117</th>\n      <td>s6118</td>\n      <td>Movie</td>\n      <td>The Battle of Midway</td>\n      <td>John Ford</td>\n      <td>Henry Fonda, Jane Darwell</td>\n      <td>United States</td>\n      <td>March 31, 2017</td>\n      <td>1942</td>\n      <td>TV-14</td>\n      <td>18 min</td>\n      <td>Classic Movies, Documentaries</td>\n      <td>Director John Ford captures combat footage of ...</td>\n    </tr>\n    <tr>\n      <th>7268</th>\n      <td>s7269</td>\n      <td>Movie</td>\n      <td>Tunisian Victory</td>\n      <td>Frank Capra, John Huston, Hugh Stewart, Roy Bo...</td>\n      <td>Burgess Meredith</td>\n      <td>United States, United Kingdom</td>\n      <td>March 31, 2017</td>\n      <td>1944</td>\n      <td>TV-14</td>\n      <td>76 min</td>\n      <td>Classic Movies, Documentaries</td>\n      <td>British and American troops join forces to lib...</td>\n    </tr>\n    <tr>\n      <th>3425</th>\n      <td>s3426</td>\n      <td>Movie</td>\n      <td>Know Your Enemy - Japan</td>\n      <td>Frank Capra, Joris Ivens</td>\n      <td>Walter Huston, Dana Andrews</td>\n      <td>United States</td>\n      <td>March 31, 2017</td>\n      <td>1945</td>\n      <td>TV-14</td>\n      <td>63 min</td>\n      <td>Classic Movies, Documentaries</td>\n      <td>Though culturally insensitive by modern standa...</td>\n    </tr>\n    <tr>\n      <th>3608</th>\n      <td>s3609</td>\n      <td>Movie</td>\n      <td>Let There Be Light</td>\n      <td>John Huston</td>\n      <td>Walter Huston</td>\n      <td>United States</td>\n      <td>March 31, 2017</td>\n      <td>1946</td>\n      <td>TV-PG</td>\n      <td>58 min</td>\n      <td>Classic Movies, Documentaries</td>\n      <td>Some returning combat veterans suffer scars th...</td>\n    </tr>\n    <tr>\n      <th>7072</th>\n      <td>s7073</td>\n      <td>Movie</td>\n      <td>Thunderbolt</td>\n      <td>William Wyler, John Sturges</td>\n      <td>James Stewart, Lloyd Bridges</td>\n      <td>United States</td>\n      <td>March 31, 2017</td>\n      <td>1947</td>\n      <td>TV-PG</td>\n      <td>42 min</td>\n      <td>Classic Movies, Documentaries</td>\n      <td>A P-47 Thunderbolt squadron is shown in prepar...</td>\n    </tr>\n  </tbody>\n</table>\n</div>"
     },
     "execution_count": 8,
     "metadata": {},
     "output_type": "execute_result"
    }
   ],
   "source": [
    "new_nf = sorted_nf.dropna()\n",
    "new_nf.head()"
   ],
   "metadata": {
    "collapsed": false,
    "pycharm": {
     "name": "#%%\n"
    }
   }
  },
  {
   "cell_type": "code",
   "execution_count": 9,
   "outputs": [
    {
     "data": {
      "text/plain": "0"
     },
     "execution_count": 9,
     "metadata": {},
     "output_type": "execute_result"
    }
   ],
   "source": [
    "new_nf.duplicated().sum()"
   ],
   "metadata": {
    "collapsed": false,
    "pycharm": {
     "name": "#%%\n"
    }
   }
  },
  {
   "cell_type": "code",
   "execution_count": 10,
   "outputs": [
    {
     "data": {
      "text/plain": "array([1942, 1944, 1945, 1946, 1947, 1954, 1955, 1956, 1958, 1959, 1960,\n       1962, 1963, 1964, 1965, 1966, 1967, 1968, 1969, 1970, 1971, 1972,\n       1973, 1974, 1975, 1976, 1977, 1978, 1979, 1980, 1981, 1982, 1983,\n       1984, 1985, 1986, 1987, 1988, 1989, 1990, 1991, 1992, 1993, 1994,\n       1995, 1996, 1997, 1998, 1999, 2000, 2001, 2002, 2003, 2004, 2005,\n       2006, 2007, 2008, 2009, 2010, 2011, 2012, 2013, 2014, 2015, 2016,\n       2017, 2018, 2019, 2020, 2021], dtype=int64)"
     },
     "execution_count": 10,
     "metadata": {},
     "output_type": "execute_result"
    }
   ],
   "source": [
    "new_nf.release_year.unique()"
   ],
   "metadata": {
    "collapsed": false,
    "pycharm": {
     "name": "#%%\n"
    }
   }
  },
  {
   "cell_type": "code",
   "execution_count": 11,
   "outputs": [
    {
     "data": {
      "text/plain": "71"
     },
     "execution_count": 11,
     "metadata": {},
     "output_type": "execute_result"
    }
   ],
   "source": [
    "new_nf.release_year.nunique()"
   ],
   "metadata": {
    "collapsed": false,
    "pycharm": {
     "name": "#%%\n"
    }
   }
  },
  {
   "cell_type": "code",
   "execution_count": 12,
   "outputs": [
    {
     "data": {
      "text/plain": "0    2017\ndtype: int64"
     },
     "execution_count": 12,
     "metadata": {},
     "output_type": "execute_result"
    }
   ],
   "source": [
    "new_nf.release_year.mode()"
   ],
   "metadata": {
    "collapsed": false,
    "pycharm": {
     "name": "#%%\n"
    }
   }
  },
  {
   "cell_type": "code",
   "execution_count": 13,
   "outputs": [
    {
     "data": {
      "text/plain": "     show_id   type                                              title  \\\n4091   s4092  Movie                Mike Birbiglia: Thank God for Jokes   \n254     s255  Movie                                    A Witches' Ball   \n3448   s3449  Movie          Krish Trish and Baltiboy: Face Your Fears   \n4067   s4068  Movie  Michael Bolton's Big, Sexy Valentine's Day Spe...   \n1014   s1015  Movie                                         Bobbi Jene   \n...      ...    ...                                                ...   \n4117   s4118  Movie                            Minnaminugu the FireFly   \n1027   s1028  Movie                                              Bokeh   \n4108   s4109  Movie                                           Mindhorn   \n4107   s4108  Movie                                         MindGamers   \n4096   s4097  Movie                                             Milada   \n\n                                director  \\\n4091        Seth Barrish, Mike Birbiglia   \n254                       Justin G. Dyck   \n3448                        Tilak Shetty   \n4067      Scott Aukerman, Akiva Schaffer   \n1014                         Elvira Lind   \n...                                  ...   \n4117                         Anil Thomas   \n1027  Geoffrey Orthwein, Andrew Sullivan   \n4108                          Sean Foley   \n4107                         Andrew Goth   \n4096                         David Mrnka   \n\n                                                   cast  \\\n4091                                     Mike Birbiglia   \n254   Morgan Neundorf, Karen Slater, Loukia Ioannou,...   \n3448      Tarun Ratnani, Smita Malhotra, Deepak Chachra   \n4067  Michael Bolton, Andy Samberg, Will Forte, Kenn...   \n1014                                   Bobbi Jene Smith   \n...                                                 ...   \n4117  Surabhi Lakshmi, Krishnan Balakrishnan, Rebecc...   \n1027  Maika Monroe, Matt O'Leary, Arnar Jónsson, Gun...   \n4108  Julian Barratt, Andrea Riseborough, Essie Davi...   \n4107  Tom Payne, Melia Kreiling, Antonia Campbell-Hu...   \n4096  Ayelet Zurer, Robert Gant, Vica Kerekes, Aňa G...   \n\n                                     country         date_added  release_year  \\\n4091                           United States  February 28, 2017          2017   \n254                                   Canada    October 1, 2018          2017   \n3448                                   India  November 17, 2017          2017   \n4067                           United States   February 7, 2017          2017   \n1014  Denmark, Sweden, Israel, United States       June 1, 2018          2017   \n...                                      ...                ...           ...   \n4117                                   India     August 1, 2018          2017   \n1027                  United States, Iceland      June 22, 2017          2017   \n4108                          United Kingdom       May 12, 2017          2017   \n4107                                 Austria   January 15, 2020          2017   \n4096           Czech Republic, United States   January 12, 2018          2017   \n\n     rating duration                                          listed_in  \\\n4091  TV-MA   71 min                                    Stand-Up Comedy   \n254      PG   91 min                           Children & Family Movies   \n3448  TV-Y7   65 min                           Children & Family Movies   \n4067  TV-MA   54 min        Comedies, Music & Musicals, Romantic Movies   \n1014  TV-MA   99 min                                      Documentaries   \n...     ...      ...                                                ...   \n4117  TV-14  128 min                       Dramas, International Movies   \n1027  TV-14   92 min       Dramas, Independent Movies, Sci-Fi & Fantasy   \n4108  TV-MA   88 min          Comedies, Cult Movies, Independent Movies   \n4107      R   99 min  International Movies, Sci-Fi & Fantasy, Thrillers   \n4096  TV-14  124 min                       Dramas, International Movies   \n\n                                            description  \n4091  Comedian Mike Birbiglia takes the stage in Bro...  \n254   Beatrix can't wait to be inducted as a witch, ...  \n3448  In three tales about fear, a baby elephant get...  \n4067  After Santa tells him he needs 75,000 new babi...  \n1014  This candid profile follows dancer Bobbi Jene ...  \n...                                                 ...  \n4117  A nameless widow juggles multiple jobs to supp...  \n1027  After learning they are the sole survivors of ...  \n4108  When a twisted killer tells the police he'll o...  \n4107  Brilliant young students discover a breakthrou...  \n4096  Politician and human rights campaigner Milada ...  \n\n[645 rows x 12 columns]",
      "text/html": "<div>\n<style scoped>\n    .dataframe tbody tr th:only-of-type {\n        vertical-align: middle;\n    }\n\n    .dataframe tbody tr th {\n        vertical-align: top;\n    }\n\n    .dataframe thead th {\n        text-align: right;\n    }\n</style>\n<table border=\"1\" class=\"dataframe\">\n  <thead>\n    <tr style=\"text-align: right;\">\n      <th></th>\n      <th>show_id</th>\n      <th>type</th>\n      <th>title</th>\n      <th>director</th>\n      <th>cast</th>\n      <th>country</th>\n      <th>date_added</th>\n      <th>release_year</th>\n      <th>rating</th>\n      <th>duration</th>\n      <th>listed_in</th>\n      <th>description</th>\n    </tr>\n  </thead>\n  <tbody>\n    <tr>\n      <th>4091</th>\n      <td>s4092</td>\n      <td>Movie</td>\n      <td>Mike Birbiglia: Thank God for Jokes</td>\n      <td>Seth Barrish, Mike Birbiglia</td>\n      <td>Mike Birbiglia</td>\n      <td>United States</td>\n      <td>February 28, 2017</td>\n      <td>2017</td>\n      <td>TV-MA</td>\n      <td>71 min</td>\n      <td>Stand-Up Comedy</td>\n      <td>Comedian Mike Birbiglia takes the stage in Bro...</td>\n    </tr>\n    <tr>\n      <th>254</th>\n      <td>s255</td>\n      <td>Movie</td>\n      <td>A Witches' Ball</td>\n      <td>Justin G. Dyck</td>\n      <td>Morgan Neundorf, Karen Slater, Loukia Ioannou,...</td>\n      <td>Canada</td>\n      <td>October 1, 2018</td>\n      <td>2017</td>\n      <td>PG</td>\n      <td>91 min</td>\n      <td>Children &amp; Family Movies</td>\n      <td>Beatrix can't wait to be inducted as a witch, ...</td>\n    </tr>\n    <tr>\n      <th>3448</th>\n      <td>s3449</td>\n      <td>Movie</td>\n      <td>Krish Trish and Baltiboy: Face Your Fears</td>\n      <td>Tilak Shetty</td>\n      <td>Tarun Ratnani, Smita Malhotra, Deepak Chachra</td>\n      <td>India</td>\n      <td>November 17, 2017</td>\n      <td>2017</td>\n      <td>TV-Y7</td>\n      <td>65 min</td>\n      <td>Children &amp; Family Movies</td>\n      <td>In three tales about fear, a baby elephant get...</td>\n    </tr>\n    <tr>\n      <th>4067</th>\n      <td>s4068</td>\n      <td>Movie</td>\n      <td>Michael Bolton's Big, Sexy Valentine's Day Spe...</td>\n      <td>Scott Aukerman, Akiva Schaffer</td>\n      <td>Michael Bolton, Andy Samberg, Will Forte, Kenn...</td>\n      <td>United States</td>\n      <td>February 7, 2017</td>\n      <td>2017</td>\n      <td>TV-MA</td>\n      <td>54 min</td>\n      <td>Comedies, Music &amp; Musicals, Romantic Movies</td>\n      <td>After Santa tells him he needs 75,000 new babi...</td>\n    </tr>\n    <tr>\n      <th>1014</th>\n      <td>s1015</td>\n      <td>Movie</td>\n      <td>Bobbi Jene</td>\n      <td>Elvira Lind</td>\n      <td>Bobbi Jene Smith</td>\n      <td>Denmark, Sweden, Israel, United States</td>\n      <td>June 1, 2018</td>\n      <td>2017</td>\n      <td>TV-MA</td>\n      <td>99 min</td>\n      <td>Documentaries</td>\n      <td>This candid profile follows dancer Bobbi Jene ...</td>\n    </tr>\n    <tr>\n      <th>...</th>\n      <td>...</td>\n      <td>...</td>\n      <td>...</td>\n      <td>...</td>\n      <td>...</td>\n      <td>...</td>\n      <td>...</td>\n      <td>...</td>\n      <td>...</td>\n      <td>...</td>\n      <td>...</td>\n      <td>...</td>\n    </tr>\n    <tr>\n      <th>4117</th>\n      <td>s4118</td>\n      <td>Movie</td>\n      <td>Minnaminugu the FireFly</td>\n      <td>Anil Thomas</td>\n      <td>Surabhi Lakshmi, Krishnan Balakrishnan, Rebecc...</td>\n      <td>India</td>\n      <td>August 1, 2018</td>\n      <td>2017</td>\n      <td>TV-14</td>\n      <td>128 min</td>\n      <td>Dramas, International Movies</td>\n      <td>A nameless widow juggles multiple jobs to supp...</td>\n    </tr>\n    <tr>\n      <th>1027</th>\n      <td>s1028</td>\n      <td>Movie</td>\n      <td>Bokeh</td>\n      <td>Geoffrey Orthwein, Andrew Sullivan</td>\n      <td>Maika Monroe, Matt O'Leary, Arnar Jónsson, Gun...</td>\n      <td>United States, Iceland</td>\n      <td>June 22, 2017</td>\n      <td>2017</td>\n      <td>TV-14</td>\n      <td>92 min</td>\n      <td>Dramas, Independent Movies, Sci-Fi &amp; Fantasy</td>\n      <td>After learning they are the sole survivors of ...</td>\n    </tr>\n    <tr>\n      <th>4108</th>\n      <td>s4109</td>\n      <td>Movie</td>\n      <td>Mindhorn</td>\n      <td>Sean Foley</td>\n      <td>Julian Barratt, Andrea Riseborough, Essie Davi...</td>\n      <td>United Kingdom</td>\n      <td>May 12, 2017</td>\n      <td>2017</td>\n      <td>TV-MA</td>\n      <td>88 min</td>\n      <td>Comedies, Cult Movies, Independent Movies</td>\n      <td>When a twisted killer tells the police he'll o...</td>\n    </tr>\n    <tr>\n      <th>4107</th>\n      <td>s4108</td>\n      <td>Movie</td>\n      <td>MindGamers</td>\n      <td>Andrew Goth</td>\n      <td>Tom Payne, Melia Kreiling, Antonia Campbell-Hu...</td>\n      <td>Austria</td>\n      <td>January 15, 2020</td>\n      <td>2017</td>\n      <td>R</td>\n      <td>99 min</td>\n      <td>International Movies, Sci-Fi &amp; Fantasy, Thrillers</td>\n      <td>Brilliant young students discover a breakthrou...</td>\n    </tr>\n    <tr>\n      <th>4096</th>\n      <td>s4097</td>\n      <td>Movie</td>\n      <td>Milada</td>\n      <td>David Mrnka</td>\n      <td>Ayelet Zurer, Robert Gant, Vica Kerekes, Aňa G...</td>\n      <td>Czech Republic, United States</td>\n      <td>January 12, 2018</td>\n      <td>2017</td>\n      <td>TV-14</td>\n      <td>124 min</td>\n      <td>Dramas, International Movies</td>\n      <td>Politician and human rights campaigner Milada ...</td>\n    </tr>\n  </tbody>\n</table>\n<p>645 rows × 12 columns</p>\n</div>"
     },
     "execution_count": 13,
     "metadata": {},
     "output_type": "execute_result"
    }
   ],
   "source": [
    "new_nf.loc[new_nf.release_year == 2017]"
   ],
   "metadata": {
    "collapsed": false,
    "pycharm": {
     "name": "#%%\n"
    }
   }
  },
  {
   "cell_type": "code",
   "execution_count": 14,
   "outputs": [
    {
     "data": {
      "text/plain": "count                            4808\nunique                           4808\ntop       Dhobi Ghat (Mumbai Diaries)\nfreq                                1\nName: title, dtype: object"
     },
     "execution_count": 14,
     "metadata": {},
     "output_type": "execute_result"
    }
   ],
   "source": [
    "new_nf.title.describe()"
   ],
   "metadata": {
    "collapsed": false,
    "pycharm": {
     "name": "#%%\n"
    }
   }
  },
  {
   "cell_type": "code",
   "execution_count": 15,
   "outputs": [
    {
     "data": {
      "text/plain": "array(['The Battle of Midway', 'Tunisian Victory',\n       'Know Your Enemy - Japan', ..., 'What Happened to Mr. Cha?',\n       'The Idhun Chronicles', 'Charming'], dtype=object)"
     },
     "execution_count": 15,
     "metadata": {},
     "output_type": "execute_result"
    }
   ],
   "source": [
    "new_nf.title.unique()"
   ],
   "metadata": {
    "collapsed": false,
    "pycharm": {
     "name": "#%%\n"
    }
   }
  },
  {
   "cell_type": "code",
   "execution_count": 16,
   "outputs": [
    {
     "data": {
      "text/plain": "Movie      4673\nTV Show     135\nName: type, dtype: int64"
     },
     "execution_count": 16,
     "metadata": {},
     "output_type": "execute_result"
    }
   ],
   "source": [
    "new_nf.type.value_counts()"
   ],
   "metadata": {
    "collapsed": false,
    "pycharm": {
     "name": "#%%\n"
    }
   }
  },
  {
   "cell_type": "code",
   "execution_count": 17,
   "outputs": [
    {
     "data": {
      "text/plain": "count      4808\nunique        2\ntop       Movie\nfreq       4673\nName: type, dtype: object"
     },
     "execution_count": 17,
     "metadata": {},
     "output_type": "execute_result"
    }
   ],
   "source": [
    "new_nf.type.describe()"
   ],
   "metadata": {
    "collapsed": false,
    "pycharm": {
     "name": "#%%\n"
    }
   }
  },
  {
   "cell_type": "code",
   "execution_count": 18,
   "outputs": [
    {
     "data": {
      "text/plain": "count      4808\nunique       14\ntop       TV-MA\nfreq       1665\nName: rating, dtype: object"
     },
     "execution_count": 18,
     "metadata": {},
     "output_type": "execute_result"
    }
   ],
   "source": [
    "new_nf.rating.describe()"
   ],
   "metadata": {
    "collapsed": false,
    "pycharm": {
     "name": "#%%\n"
    }
   }
  },
  {
   "cell_type": "code",
   "execution_count": 19,
   "outputs": [
    {
     "data": {
      "text/plain": "14"
     },
     "execution_count": 19,
     "metadata": {},
     "output_type": "execute_result"
    }
   ],
   "source": [
    "new_nf.rating.nunique()"
   ],
   "metadata": {
    "collapsed": false,
    "pycharm": {
     "name": "#%%\n"
    }
   }
  },
  {
   "cell_type": "code",
   "execution_count": 20,
   "outputs": [
    {
     "data": {
      "text/plain": "TV-MA       1665\nTV-14       1133\nR            654\nTV-PG        413\nPG-13        375\nPG           238\nTV-G          80\nTV-Y          71\nTV-Y7         69\nNR            62\nG             38\nUR             5\nTV-Y7-FV       3\nNC-17          2\nName: rating, dtype: int64"
     },
     "execution_count": 20,
     "metadata": {},
     "output_type": "execute_result"
    }
   ],
   "source": [
    "new_nf.rating.value_counts()"
   ],
   "metadata": {
    "collapsed": false,
    "pycharm": {
     "name": "#%%\n"
    }
   }
  },
  {
   "cell_type": "code",
   "execution_count": 21,
   "outputs": [
    {
     "data": {
      "text/plain": "Raúl Campos, Jan Suter     18\nMarcus Raboy               15\nJay Karas                  14\nCathy Garcia-Molina        13\nYoussef Chahine            12\n                           ..\nTodd Phillips               1\nChris Weitz, Paul Weitz     1\nRZA                         1\nTharun Bhascker             1\nBunmi Ajakaiye              1\nName: director, Length: 3613, dtype: int64"
     },
     "execution_count": 21,
     "metadata": {},
     "output_type": "execute_result"
    }
   ],
   "source": [
    "new_nf.director.value_counts()"
   ],
   "metadata": {
    "collapsed": false,
    "pycharm": {
     "name": "#%%\n"
    }
   }
  },
  {
   "cell_type": "code",
   "execution_count": 22,
   "outputs": [
    {
     "data": {
      "text/plain": "count                       4808\nunique                      3613\ntop       Raúl Campos, Jan Suter\nfreq                          18\nName: director, dtype: object"
     },
     "execution_count": 22,
     "metadata": {},
     "output_type": "execute_result"
    }
   ],
   "source": [
    "new_nf.director.describe()"
   ],
   "metadata": {
    "collapsed": false,
    "pycharm": {
     "name": "#%%\n"
    }
   }
  },
  {
   "cell_type": "code",
   "execution_count": 23,
   "outputs": [
    {
     "data": {
      "text/plain": "Dramas, International Movies                                      306\nStand-Up Comedy                                                   276\nComedies, Dramas, International Movies                            237\nDramas, Independent Movies, International Movies                  213\nChildren & Family Movies, Comedies                                158\n                                                                 ... \nCult Movies, Independent Movies, Thrillers                          1\nReality TV                                                          1\nDramas, Romantic Movies, Thrillers                                  1\nInternational TV Shows, Spanish-Language TV Shows, TV Comedies      1\nAction & Adventure, Comedies, Music & Musicals                      1\nName: listed_in, Length: 323, dtype: int64"
     },
     "execution_count": 23,
     "metadata": {},
     "output_type": "execute_result"
    }
   ],
   "source": [
    "new_nf.listed_in.value_counts()"
   ],
   "metadata": {
    "collapsed": false,
    "pycharm": {
     "name": "#%%\n"
    }
   }
  },
  {
   "cell_type": "code",
   "execution_count": 24,
   "outputs": [
    {
     "name": "stderr",
     "output_type": "stream",
     "text": [
      "C:\\Users\\Testys\\anaconda3\\lib\\site-packages\\seaborn\\_decorators.py:36: FutureWarning: Pass the following variable as a keyword arg: x. From version 0.12, the only valid positional argument will be `data`, and passing other arguments without an explicit keyword will result in an error or misinterpretation.\n",
      "  warnings.warn(\n"
     ]
    },
    {
     "data": {
      "text/plain": "<AxesSubplot:xlabel='rating', ylabel='count'>"
     },
     "execution_count": 24,
     "metadata": {},
     "output_type": "execute_result"
    },
    {
     "data": {
      "text/plain": "<Figure size 432x288 with 1 Axes>",
      "image/png": "[encoded data removed]"
     },
     "metadata": {
      "needs_background": "light"
     },
     "output_type": "display_data"
    }
   ],
   "source": [
    "sns.countplot(new_nf.rating)"
   ],
   "metadata": {
    "collapsed": false,
    "pycharm": {
     "name": "#%%\n"
    }
   }
  },
  {
   "cell_type": "code",
   "execution_count": null,
   "outputs": [
    {
     "name": "stderr",
     "output_type": "stream",
     "text": [
      "C:\\Users\\Testys\\anaconda3\\lib\\site-packages\\seaborn\\_decorators.py:36: FutureWarning: Pass the following variable as a keyword arg: x. From version 0.12, the only valid positional argument will be `data`, and passing other arguments without an explicit keyword will result in an error or misinterpretation.\n",
      "  warnings.warn(\n"
     ]
    },
    {
     "data": {
      "text/plain": "<AxesSubplot:xlabel='release_year', ylabel='count'>"
     },
     "execution_count": 25,
     "metadata": {},
     "output_type": "execute_result"
    }
   ],
   "source": [
    "sns.countplot(new_nf.release_year)"
   ],
   "metadata": {
    "collapsed": false,
    "pycharm": {
     "name": "#%%\n",
     "is_executing": true
    }
   }
  },
  {
   "cell_type": "code",
   "execution_count": null,
   "outputs": [],
   "source": [],
   "metadata": {
    "collapsed": false,
    "pycharm": {
     "name": "#%%\n"
    }
   }
  }
 ],
 "metadata": {
  "kernelspec": {
   "display_name": "Python 3",
   "language": "python",
   "name": "python3"
  },
  "language_info": {
   "codemirror_mode": {
    "name": "ipython",
    "version": 2
   },
   "file_extension": ".py",
   "mimetype": "text/x-python",
   "name": "python",
   "nbconvert_exporter": "python",
   "pygments_lexer": "ipython2",
   "version": "2.7.6"
  }
 },
 "nbformat": 4,
 "nbformat_minor": 0
}